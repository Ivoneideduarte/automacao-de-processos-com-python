{
 "cells": [
  {
   "cell_type": "code",
   "execution_count": 3,
   "metadata": {},
   "outputs": [],
   "source": [
    "# Importar as bibliotecas\n",
    "import pyautogui        # Faz a automação do mouse e do teclado\n",
    "from time import sleep  # Controla o tempo do nosso programa (em segundos)\n",
    "import pyperclip        # Permite copiar e colar com o Python\n",
    "\n",
    "pyautogui.PAUSE = 1 # Sempre que for executado um comando do 'pyautogui' o programa vai aguardar 1seg\n",
    "# Passo 1: Entrar no sistema (link do Google Drive)\n",
    "pyautogui.hotkey('ctrl', 't') # (Atalho do teclado => (ctrl + t) => Abre uma nova aba)\n",
    "link = 'https://drive.google.com/drive/u/0/folders/1wRTFw0sUVBjRr4hW5U9LF7DjLixRyxym'\n",
    "# Dá 'ctrl + c' e 'ctrl + v'\n",
    "pyperclip.copy(link) # Copia o link\n",
    "pyautogui.hotkey('ctrl', 'v') # Cola o link\n",
    "# pyautogui.write('https://drive.google.com/drive/u/0/folders/1wRTFw0sUVBjRr4hW5U9LF7DjLixRyxym')\n",
    "pyautogui.press('enter') # Pressiona a tecla 'enter'\n",
    "# Passo 2: Entrar na pasta da Aula 1\n",
    "# Passo 3: Fazer o download da Base de vendas\n",
    "# Passo 4: Calcular os indicadores (Faturamento e Quantidade de Produtos)\n",
    "# Passo 5: Entrar no meu email\n",
    "# Passo 6: Criar um email\n",
    "# Passo 7: Enviar o email"
   ]
  },
  {
   "cell_type": "code",
   "execution_count": null,
   "metadata": {},
   "outputs": [],
   "source": []
  }
 ],
 "metadata": {
  "kernelspec": {
   "display_name": "Python 3",
   "language": "python",
   "name": "python3"
  },
  "language_info": {
   "codemirror_mode": {
    "name": "ipython",
    "version": 3
   },
   "file_extension": ".py",
   "mimetype": "text/x-python",
   "name": "python",
   "nbconvert_exporter": "python",
   "pygments_lexer": "ipython3",
   "version": "3.8.5"
  }
 },
 "nbformat": 4,
 "nbformat_minor": 4
}
