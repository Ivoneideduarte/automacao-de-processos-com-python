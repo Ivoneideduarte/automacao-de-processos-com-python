{
 "cells": [
  {
   "cell_type": "code",
   "execution_count": null,
   "metadata": {},
   "outputs": [],
   "source": [
    "# Importar as bibliotecas\n",
    "import pyautogui        # Faz a automação do mouse e do teclado\n",
    "from time import sleep  # Controla o tempo do nosso programa (em segundos)\n",
    "import pyperclip        # Permite copiar e colar com o Python\n",
    "\n",
    "pyautogui.PAUSE = 1 # Sempre que for executado um comando do 'pyautogui' o programa vai aguardar 1seg\n",
    "pyautogui.alert('O programa vai começar. Não use NADA do seu computador enquanto isso.') # Mensagem para informar o usuário\n",
    "# Passo 1: Entrar no sistema (link do Google Drive)\n",
    "pyautogui.hotkey('ctrl', 't') # (Atalho do teclado => (ctrl + t) => Abre uma nova aba)\n",
    "link = 'https://drive.google.com/drive/shared-with-me'\n",
    "# Dá 'ctrl + c' e 'ctrl + v'\n",
    "pyperclip.copy(link) # Copia o link\n",
    "pyautogui.hotkey('ctrl', 'v') # Cola o link\n",
    "# pyautogui.write('https://drive.google.com/drive/u/0/folders/1wRTFw0sUVBjRr4hW5U9LF7DjLixRyxym')\n",
    "pyautogui.press('enter') # Pressiona a tecla 'enter'\n",
    "sleep(7) # Espera um pouquinho só pra garantir que entrou no sistema\n",
    "\n",
    "# Passo 2: Entrar na pasta da Aula 1\n",
    "pyautogui.click(360, 363, clicks=2) # Serve para pegar determinada posição e clicar (duplo clique) para executar\n",
    "# Passo 3: Fazer o download da Base de vendas\n",
    "pyautogui.click(430, 376) # Por padrão esse comando dá apenas um clique\n",
    "pyautogui.click(1167, 193)\n",
    "pyautogui.click(1008, 600)\n",
    "sleep(10) # Espera 10 segundos para confirmar o download do arquivo\n",
    "\n",
    "# Passo 4: Calcular os indicadores (Faturamento e Quantidade de Produtos)\n",
    "import pandas as pd\n",
    "tabela = pd.read_excel(r'C:\\Users\\Ivoneide\\Downloads\\Vendas - Dez.xlsx') # Ler o arquivo do excel\n",
    "display(tabela) # display é um print estilizado\n",
    "# Passo 5: Entrar no meu email\n",
    "# Passo 6: Criar um email\n",
    "# Passo 7: Enviar o email\n",
    "pyautogui.alert('Fim do programa. Você já pode mexer no computador!')"
   ]
  },
  {
   "cell_type": "code",
   "execution_count": null,
   "metadata": {},
   "outputs": [],
   "source": [
    "# Espera 5 segundos e depois mostra a posição de onde você clicou \n",
    "sleep(5) \n",
    "pyautogui.position()"
   ]
  },
  {
   "cell_type": "code",
   "execution_count": null,
   "metadata": {},
   "outputs": [],
   "source": []
  },
  {
   "cell_type": "code",
   "execution_count": null,
   "metadata": {},
   "outputs": [],
   "source": []
  }
 ],
 "metadata": {
  "kernelspec": {
   "display_name": "Python 3",
   "language": "python",
   "name": "python3"
  },
  "language_info": {
   "codemirror_mode": {
    "name": "ipython",
    "version": 3
   },
   "file_extension": ".py",
   "mimetype": "text/x-python",
   "name": "python",
   "nbconvert_exporter": "python",
   "pygments_lexer": "ipython3",
   "version": "3.8.5"
  }
 },
 "nbformat": 4,
 "nbformat_minor": 4
}
