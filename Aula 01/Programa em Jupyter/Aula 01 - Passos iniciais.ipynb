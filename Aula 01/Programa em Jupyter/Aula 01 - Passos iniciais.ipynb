{
 "cells": [
  {
   "cell_type": "code",
   "execution_count": null,
   "metadata": {},
   "outputs": [],
   "source": [
    "# Importar as bibliotecas\n",
    "\n",
    "# Passo 1: Entrar no sistema (link do Google Drive)\n",
    "# Passo 2: Entrar na pasta da Aula 1\n",
    "# Passo 3: Fazer o download da Base de vendas\n",
    "# Passo 4: Calcular os indicadores (Faturamento e Quantidade de Produtos)\n",
    "# Passo 5: Entrar no meu email\n",
    "# Passo 6: Criar um email\n",
    "# Passo 7: Enviar o email"
   ]
  }
 ],
 "metadata": {
  "kernelspec": {
   "display_name": "Python 3",
   "language": "python",
   "name": "python3"
  },
  "language_info": {
   "codemirror_mode": {
    "name": "ipython",
    "version": 3
   },
   "file_extension": ".py",
   "mimetype": "text/x-python",
   "name": "python",
   "nbconvert_exporter": "python",
   "pygments_lexer": "ipython3",
   "version": "3.8.5"
  }
 },
 "nbformat": 4,
 "nbformat_minor": 4
}
